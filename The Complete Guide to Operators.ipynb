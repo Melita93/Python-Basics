{
 "cells": [
  {
   "cell_type": "markdown",
   "metadata": {},
   "source": [
    "Source: https://www.appliedaicourse.com/lecture/11/applied-machine-learning-online-course/2780/operators/0/free-videos\n",
    "        https://courses.analyticsvidhya.com/courses/take/introduction-to-data-science/texts/5858059-understanding-operators-in-python\n",
    "        \n",
    "        \n",
    "Operators are special symbols that carry out arithmetic or logical computation. The value that the operator operates on is called the \"operand\"\n",
    "\n",
    "![Image](data:image/png;base64,iVBORw0KGgoAAAANSUhEUgAAANoAAADnCAMAAABPJ7iaAAABg1BMVEX///8AAACLi4t0dHTT09OHh4fa2tpMTEw7OzvAwMBSUlLIyMj7+/tCQkL/9/etra1+fn7/7e2np/W1tbX/xsY2NjYkJCT/wMDgsrLm5v/w///s7Oz///H/39/VqanFhYUXAAAbGxs2Hh6mpqYxOTmUlJT5+f9dXV2XZF8MDAwtLS1fX5AaJCTc3P////fExMRxdbDm5ua6u7IXFxdiYmIyMiqQoKGcnJZTQ0OednZqbW3/29sxMTPKkpKvr/VtbYU9PU+WluXwnp5NNjfM5eXBwf8AACQkIzJAFxcADQBcXFW90dE3NyvLy/eynJ3WzMM4Nz9MTFXb8P7BrKzv8f+urty7lZaXi4slFxfR0b7My9hsVVUYGB/mw8MOGhqjt7f/qKinppWFhXhJLzAAABVzc5q2t+KChbfZ8/CSkrVmPTzl5tk9PV5+VlZJSnXJyeudqMRaXHcVFSl9bm4kAACBgqJVXGkwL0e1tNnz08PfzcX/z8P8/OF/dXU/QW5YLS28qpsyNXXXAAAJhklEQVR4nO2d+V/bRhbA5/mSD9mW6yMB2QRXFUYmMRhDCCa7zUGWAiXHcjYp0GS3aQIhacumTbvtdv/0nZFk49CwkeTJxMPnfX+AwR5Z+npm3oxl6UHg3EKAnFNQTUZQTUZQTUZQTUZQTUZQ7b1kUowxX9uokYcbXHb+bjipRUbstfbziJ+NYsrEFR47PwM+apE6TJih0BHEYz62aq4MvlpOgRA7yIVj+GmDqLlEM5fP5x3LTIoWh1mlfITQImFP5WmZ6Eb6xfN8ounWsS07lXjARW1kND1sFyqf/bhJMiNwfER7Z3uRPhLb+oIWrw4RcgFq07Q4XLC7rrJKIiW7lKB1/qC/J/LqSaX+j4mTWhu+d0t3IczUrLZhhEHTSWZ7TzOM+X+9HiMXdlqWYRikYtKfIdq8ull88dowmplt+ME0tneWX1G1UacSD3ioNZIw5BYL0KZqe1Hay2KP6gmye2DStsgcl55RteRJR8uM//yKjTW23e7BSyqV2dr5lvqPJvn0RsJHrZyGZ27RUaNONLSvwz6Zs2ijGUYNXtGjjrqVEqZhHtXzJOaEEWP5ezZplFdmddoho+/cRRA4tVon0rlq9js/be2Tx51TMJtUTbOrLITi7IFiR60xZ63ar9Kmb9AF0Po+nA4fZKz1qJXMhB0RhzpqjXFQEvn18fqf1awBVBsZ/dIZbG6EtNUyd1t5Mldd7VRy1X6DNJ0VMrcudztkdvk565C5a3aHHDC1TBJ+WKO/C4+gtsHCSJb+sXv75RWSr9fYFJAzn52oJenPw4PrdIabv/GQVTx48Ya+xvzo1NjgqZHDOrzUNO0I0mwCHgFF036/DTQ66CGo0SeOYbHbIUst+sAKG2uN/0JSC8XUbbgR1o5Hl+3Jb9DUSMxZQ26yFQhttTQt/+eNTv/QR9h0DPvD9KjDdlV7pj6+tEc7bW7enrKdOlMP1YFUI5kIw17507FmxCKRmPMxIBNjT9CjzkWaTlX2gJ6LUHG1Savpbh37Q0C3Egc+wOe1ToT82KCaH+hYO69qJNNUub9mAPDciIygmoygmoygmowIVsu3E8L2JVgtzPG0zvtANV6gGhdQjReoxgVU4wWqcQHVeIFqXEA1XqAaF1CNF6jGBVTjBapxAdV4gWpcQDVenFu1lKlBNCHqrL9ItVi9NQNaPZ4SszuhrRaHFtQhLmhvYjskuxLNygram9gwUmRX5oramVi1CFUTdpGT4OBfh7qwfQlWi4hrNOFf04fF7QqvQJARVJMRVJMRVJMRVJMRVJMRVJMRH2pqKjHpJ8UBV5qTCYeh99d18aHWqALHewJ9YljuXdBTnk9j+lD7BSz46e/BjqxvsqWqZlJqAF5PY3pXUy9BrfTzm6DHRmnkg5+ny5acfB8xBWY83kLmXa18+f6b7b5O2Zf7SEmRLRWdNC1tSHNX+wUebPwKyT4CSbnKQW0FvuOtps7TFtOV1lzAYyP9qjkdcnp22WtmGc9q5b2lVySzBZ8HzzTUn5odRuZmpya9buJZ7d/wYIyQX+HBw6BHx2aPPtTc4D9heo3+XtUa43YEaSarQVK4VLajoVDoiQUhhhkgWVG2VDfYjD2ZhNk1b5t4VasA7Y8kaI8sfNGb/vVvd/y/QmeskVgNJrzFEa9qd+HrzzVN+/1RoB6Zi7AEYl+1YNXOJBbgzelGSHJxx2O39qjWULrveSlwUqH+xlpHrfApeOvQHtUq8PVTO4FDaj54jOQyr5H1Knhb7XlUuwtupixyL3iM5KMWhllvm3hUS3dXWM1kK2iP5DFlkydV2PS2iTe1ClidiJvbgtcBe2R/a0hLSVJWAG56zGfoTW2758vMe3Df84LgFM3geVKMThSrx7xmavSmput6t6zq+kdITEH36uJ5Ezw3IiOoJiOoJiOoJiOoJiNB1HR+KfM+JEHUjLb3hRwfAq2rA6jFkiVR19i6qNFQgBW5fzU1CyxZs0gm4/UAV5n7V4slAQJ/0A6EagKY/t9M32qs0QDaIiNJKg1Q9X/jg2+1mAJWq2UJbDbWaEHGgG+1FJTiRQWi4kZbKg5W1bJ8N5v/VjOjtXTITIg7iZCFYj2d9j/aAgX/eNDzPoGImCElaZopv29mMDVxKcxsUmklwJexsqj5+n8jDqjWC6pxBNVOgWq9oBpHUO0UqNYLqnEE1U6Bar2gGkdQ7RSo1gtVE5QxpIMwtUi82g4JpV0VpVYH4QhS041wUGrxWpDNZpRQgBPxYr8V1QQmZEI1XqAaH1CNE6jGB1TjBKrxAdU4gWp8EK0m8HZ8sWpmyRS3M7FqsbzA/BB4FauMoJqMoJqMoJqMoJqMoJqMoJqMDJRafiVA/pgz4aOWm2GpF7xnyjsDAz7hcDAduKhFr9lfXd7oNzf64KmZLbip6/otsEL9vdDAqS3chkWWKEO9CEtrJHNRWd+tF69ftZ+rzNPiIi0UroUaSrE+XLhcLBbj7LxW7i/Je19dL6adOz0WHtGiZqtVWJWZfo+Ki1oI2u49IWHQqBq07O7J3BJxVlp+OkYKn8bZt/vDBedr9/AwyV2CKivWmZtRdB6nagUnE2T/if85qIXhqVsqQI2plbKkMQ1KilTG9+hxFw7STVL4BxRVlb4F9Id6uPxijalZBik/hucbZOEINjdUp0OmYVhVM7eUfg+Lg1p5BZ65RUftMvsfErktyJKs3SLEtBZpq2k9t/vc2stStc/YRUOp9NQQMZZvsqQ6TK0MvGajD6VGpltXyePOZR+b6omaZvdCW42JV8ap2hyssqfsVlMAOAw0wqlDdibat9Ssd6p94zxQ77YaU2s8qdqXvDgR0s5GthQgr90pOKhFIdxtkPDbate7F+m4ao09aJO3OuSf1Vht6ObtCg4HNRoh7rgH9OOdk7FGf2Vhv1vJUfsNkvRn5pQa7ZCbbPromdeUG303G48pO2rBJzT4fWPnDqYRMkRUGkUmrpBIEvZpuFu43Q0jZSgNq43DUx2STRIRlYYbO4ys0Sh6WB0MNRJ28lIuseFP1Wzus7ZLpO2yHSGdXjtjP7BzSo3Msbnwny2m5sxwS30ubAiv5XFFoQuIor08ph0ynC7OfuusldlqpKg02Wok6gzIGbrqWL+QzrPVSMqu8R2rOhcvzq5lv/wrHY7X6Us98Jje8v/B/UNNJ4x8fFDNO5mLe4LzWpwFdzV1ty30ru2zGagTCHxBNRlBNRlBNRlBNRlBNRlBNRlBNRlBNRlBNRlBNRlBNRlBNRlBNRk532rnlv8BEA37DcY0Y3QAAAAASUVORK5CYII=)\n",
    "\n",
    "# Operator Types\n",
    "\n",
    "1. Arithmetic Operators\n",
    "2. Assignment Operators\n",
    "3. Unary Operator\n",
    "4. Comparison (Relational) Operators\n",
    "5. Logical (Boolean) Operators\n",
    "6. Bitwise Operators\n",
    "7. Special Operators"
   ]
  },
  {
   "cell_type": "markdown",
   "metadata": {},
   "source": [
    "# Arithmetic Operators\n",
    "\n",
    "Arithmetic operators are used to perform mathematial operations like addition, subtraction, multiplication.etc. \n",
    "\n",
    "+,-,*,/,%,//,** are arithmetic operators"
   ]
  },
  {
   "cell_type": "code",
   "execution_count": 1,
   "metadata": {},
   "outputs": [
    {
     "data": {
      "text/plain": [
       "8"
      ]
     },
     "execution_count": 1,
     "metadata": {},
     "output_type": "execute_result"
    }
   ],
   "source": [
    "#Addition\n",
    "3+5"
   ]
  },
  {
   "cell_type": "code",
   "execution_count": 2,
   "metadata": {},
   "outputs": [
    {
     "data": {
      "text/plain": [
       "-8"
      ]
     },
     "execution_count": 2,
     "metadata": {},
     "output_type": "execute_result"
    }
   ],
   "source": [
    "#Subtraction\n",
    "46-54"
   ]
  },
  {
   "cell_type": "code",
   "execution_count": 3,
   "metadata": {},
   "outputs": [
    {
     "data": {
      "text/plain": [
       "6"
      ]
     },
     "execution_count": 3,
     "metadata": {},
     "output_type": "execute_result"
    }
   ],
   "source": [
    "#Multiplication\n",
    "2*3"
   ]
  },
  {
   "cell_type": "code",
   "execution_count": 4,
   "metadata": {},
   "outputs": [
    {
     "data": {
      "text/plain": [
       "5.071428571428571"
      ]
     },
     "execution_count": 4,
     "metadata": {},
     "output_type": "execute_result"
    }
   ],
   "source": [
    "# Division\n",
    "35.5/7"
   ]
  },
  {
   "cell_type": "code",
   "execution_count": 5,
   "metadata": {},
   "outputs": [
    {
     "name": "stdout",
     "output_type": "stream",
     "text": [
      "5.0\n",
      "-6.0\n"
     ]
    }
   ],
   "source": [
    "#floor division - gives as output the greatest integer less than or equal to the divisor\n",
    "print(35.5//7)\n",
    "print(-35.5//7)"
   ]
  },
  {
   "cell_type": "code",
   "execution_count": 6,
   "metadata": {},
   "outputs": [
    {
     "data": {
      "text/plain": [
       "0.5"
      ]
     },
     "execution_count": 6,
     "metadata": {},
     "output_type": "execute_result"
    }
   ],
   "source": [
    "#modulo division\n",
    "35.5%7"
   ]
  },
  {
   "cell_type": "code",
   "execution_count": 7,
   "metadata": {},
   "outputs": [
    {
     "data": {
      "text/plain": [
       "32"
      ]
     },
     "execution_count": 7,
     "metadata": {},
     "output_type": "execute_result"
    }
   ],
   "source": [
    "# exponential\n",
    "x=2\n",
    "y=5\n",
    "x**y"
   ]
  },
  {
   "cell_type": "code",
   "execution_count": 8,
   "metadata": {},
   "outputs": [
    {
     "ename": "TypeError",
     "evalue": "must be str, not int",
     "output_type": "error",
     "traceback": [
      "\u001b[1;31m---------------------------------------------------------------------------\u001b[0m",
      "\u001b[1;31mTypeError\u001b[0m                                 Traceback (most recent call last)",
      "\u001b[1;32m<ipython-input-8-455705928327>\u001b[0m in \u001b[0;36m<module>\u001b[1;34m()\u001b[0m\n\u001b[0;32m      1\u001b[0m \u001b[1;31m#what happens if we use arithmetic operators with strings?\u001b[0m\u001b[1;33m\u001b[0m\u001b[1;33m\u001b[0m\u001b[0m\n\u001b[1;32m----> 2\u001b[1;33m \u001b[1;34m\"melita\"\u001b[0m\u001b[1;33m+\u001b[0m\u001b[1;36m23\u001b[0m\u001b[1;33m\u001b[0m\u001b[0m\n\u001b[0m",
      "\u001b[1;31mTypeError\u001b[0m: must be str, not int"
     ]
    }
   ],
   "source": [
    "#what happens if we use arithmetic operators with strings?\n",
    "\"melita\"+23"
   ]
  },
  {
   "cell_type": "code",
   "execution_count": 9,
   "metadata": {},
   "outputs": [
    {
     "data": {
      "text/plain": [
       "'melita23'"
      ]
     },
     "execution_count": 9,
     "metadata": {},
     "output_type": "execute_result"
    }
   ],
   "source": [
    "\"melita\"+\"23\""
   ]
  },
  {
   "cell_type": "code",
   "execution_count": 10,
   "metadata": {},
   "outputs": [
    {
     "data": {
      "text/plain": [
       "'melitamelitamelita'"
      ]
     },
     "execution_count": 10,
     "metadata": {},
     "output_type": "execute_result"
    }
   ],
   "source": [
    "\"melita\"*3"
   ]
  },
  {
   "cell_type": "code",
   "execution_count": 11,
   "metadata": {},
   "outputs": [],
   "source": [
    "x=5"
   ]
  },
  {
   "cell_type": "code",
   "execution_count": 12,
   "metadata": {},
   "outputs": [],
   "source": [
    "y=10"
   ]
  },
  {
   "cell_type": "markdown",
   "metadata": {},
   "source": [
    "# Assignment Operator\n",
    "\n",
    "Assignment operators are used in python to assign values to variables\n",
    "\n",
    "**a=10** is a simple assignment operator that assigns the value *10* on the right to variable *a* on the left.\n",
    "\n",
    "=,+=,-=,*=,/=,%=,//=,**=,&=,|=,^=,>>=,<<= are assignment operators"
   ]
  },
  {
   "cell_type": "code",
   "execution_count": 13,
   "metadata": {},
   "outputs": [],
   "source": [
    "x=2"
   ]
  },
  {
   "cell_type": "code",
   "execution_count": 14,
   "metadata": {},
   "outputs": [],
   "source": [
    "x+=2"
   ]
  },
  {
   "cell_type": "code",
   "execution_count": 15,
   "metadata": {},
   "outputs": [
    {
     "name": "stdout",
     "output_type": "stream",
     "text": [
      "4\n"
     ]
    }
   ],
   "source": [
    "print(x)"
   ]
  },
  {
   "cell_type": "code",
   "execution_count": 16,
   "metadata": {},
   "outputs": [],
   "source": [
    "a,b=5,6"
   ]
  },
  {
   "cell_type": "code",
   "execution_count": 17,
   "metadata": {},
   "outputs": [
    {
     "data": {
      "text/plain": [
       "-1"
      ]
     },
     "execution_count": 17,
     "metadata": {},
     "output_type": "execute_result"
    }
   ],
   "source": [
    "a-b"
   ]
  },
  {
   "cell_type": "markdown",
   "metadata": {},
   "source": [
    "# Unary Operator\n",
    "source: https://www.youtube.com/watch?v=v5MR5JnKcZI\n",
    "\n",
    "The unary operator \"**-**\" multiplies a number by *-1*"
   ]
  },
  {
   "cell_type": "code",
   "execution_count": 18,
   "metadata": {},
   "outputs": [],
   "source": [
    "n=7"
   ]
  },
  {
   "cell_type": "code",
   "execution_count": 19,
   "metadata": {},
   "outputs": [],
   "source": [
    "n=-n"
   ]
  },
  {
   "cell_type": "code",
   "execution_count": 20,
   "metadata": {},
   "outputs": [
    {
     "data": {
      "text/plain": [
       "-7"
      ]
     },
     "execution_count": 20,
     "metadata": {},
     "output_type": "execute_result"
    }
   ],
   "source": [
    "n"
   ]
  },
  {
   "cell_type": "code",
   "execution_count": 21,
   "metadata": {},
   "outputs": [
    {
     "name": "stdout",
     "output_type": "stream",
     "text": [
      "7\n"
     ]
    }
   ],
   "source": [
    "print(-n)"
   ]
  },
  {
   "cell_type": "markdown",
   "metadata": {},
   "source": [
    "# Comparison Operator / Relational Operator\n",
    "\n",
    "Comparison operators are used to compare values. It returns *True* or *False* according to the condition\n",
    "\n",
    "<,>,==,!=,>=,<= are comparison operators"
   ]
  },
  {
   "cell_type": "code",
   "execution_count": 22,
   "metadata": {},
   "outputs": [
    {
     "data": {
      "text/plain": [
       "True"
      ]
     },
     "execution_count": 22,
     "metadata": {},
     "output_type": "execute_result"
    }
   ],
   "source": [
    "# greater than\n",
    "45>44"
   ]
  },
  {
   "cell_type": "code",
   "execution_count": 23,
   "metadata": {},
   "outputs": [
    {
     "data": {
      "text/plain": [
       "False"
      ]
     },
     "execution_count": 23,
     "metadata": {},
     "output_type": "execute_result"
    }
   ],
   "source": [
    "# less than\n",
    "56<23"
   ]
  },
  {
   "cell_type": "code",
   "execution_count": 24,
   "metadata": {},
   "outputs": [
    {
     "data": {
      "text/plain": [
       "False"
      ]
     },
     "execution_count": 24,
     "metadata": {},
     "output_type": "execute_result"
    }
   ],
   "source": [
    "34*34<45*23"
   ]
  },
  {
   "cell_type": "code",
   "execution_count": 25,
   "metadata": {},
   "outputs": [
    {
     "data": {
      "text/plain": [
       "True"
      ]
     },
     "execution_count": 25,
     "metadata": {},
     "output_type": "execute_result"
    }
   ],
   "source": [
    "# equal to\n",
    "45==45"
   ]
  },
  {
   "cell_type": "code",
   "execution_count": 26,
   "metadata": {},
   "outputs": [
    {
     "data": {
      "text/plain": [
       "False"
      ]
     },
     "execution_count": 26,
     "metadata": {},
     "output_type": "execute_result"
    }
   ],
   "source": [
    "# not equal to\n",
    "45!=45"
   ]
  },
  {
   "cell_type": "markdown",
   "metadata": {},
   "source": [
    "# Logical Operators\n",
    "\n",
    "Logical operators are **and**, **or** and **not**\n",
    "\n",
    "**and** : Check weather the first operand is false, if it is false it returns the first operand otherwise it returns the second operand.\n",
    "\n",
    "**or** : Check weather the first operand is true, if it is true it returns the first operand otherwise it returns the second operand.\n",
    "\n",
    "We can also remember this using truth table:\n",
    "![Image](https://upload.wikimedia.org/wikipedia/commons/4/4a/Truth_table_for_AND%2C_OR%2C_and_NOT.png)\n",
    "\n",
    "Note: **0** always holds the boolean value **True** and any other integer is **False**"
   ]
  },
  {
   "cell_type": "code",
   "execution_count": 27,
   "metadata": {},
   "outputs": [
    {
     "data": {
      "text/plain": [
       "0"
      ]
     },
     "execution_count": 27,
     "metadata": {},
     "output_type": "execute_result"
    }
   ],
   "source": [
    "# and operator\n",
    "0 and 3"
   ]
  },
  {
   "cell_type": "code",
   "execution_count": 28,
   "metadata": {},
   "outputs": [
    {
     "data": {
      "text/plain": [
       "0"
      ]
     },
     "execution_count": 28,
     "metadata": {},
     "output_type": "execute_result"
    }
   ],
   "source": [
    "3 and 0"
   ]
  },
  {
   "cell_type": "code",
   "execution_count": 29,
   "metadata": {},
   "outputs": [
    {
     "data": {
      "text/plain": [
       "5"
      ]
     },
     "execution_count": 29,
     "metadata": {},
     "output_type": "execute_result"
    }
   ],
   "source": [
    "3 and 5"
   ]
  },
  {
   "cell_type": "code",
   "execution_count": 30,
   "metadata": {},
   "outputs": [
    {
     "data": {
      "text/plain": [
       "3"
      ]
     },
     "execution_count": 30,
     "metadata": {},
     "output_type": "execute_result"
    }
   ],
   "source": [
    "# or operator\n",
    "0 or 3"
   ]
  },
  {
   "cell_type": "code",
   "execution_count": 31,
   "metadata": {},
   "outputs": [
    {
     "data": {
      "text/plain": [
       "-3"
      ]
     },
     "execution_count": 31,
     "metadata": {},
     "output_type": "execute_result"
    }
   ],
   "source": [
    "-3 or 0"
   ]
  },
  {
   "cell_type": "code",
   "execution_count": 32,
   "metadata": {},
   "outputs": [
    {
     "data": {
      "text/plain": [
       "3"
      ]
     },
     "execution_count": 32,
     "metadata": {},
     "output_type": "execute_result"
    }
   ],
   "source": [
    "3 or 5"
   ]
  },
  {
   "cell_type": "code",
   "execution_count": 33,
   "metadata": {},
   "outputs": [
    {
     "data": {
      "text/plain": [
       "False"
      ]
     },
     "execution_count": 33,
     "metadata": {},
     "output_type": "execute_result"
    }
   ],
   "source": [
    "# not operator\n",
    "not 3"
   ]
  },
  {
   "cell_type": "code",
   "execution_count": 34,
   "metadata": {},
   "outputs": [
    {
     "data": {
      "text/plain": [
       "True"
      ]
     },
     "execution_count": 34,
     "metadata": {},
     "output_type": "execute_result"
    }
   ],
   "source": [
    "not 0"
   ]
  },
  {
   "cell_type": "code",
   "execution_count": 35,
   "metadata": {},
   "outputs": [],
   "source": [
    "a,b= True,False"
   ]
  },
  {
   "cell_type": "code",
   "execution_count": 36,
   "metadata": {},
   "outputs": [
    {
     "data": {
      "text/plain": [
       "False"
      ]
     },
     "execution_count": 36,
     "metadata": {},
     "output_type": "execute_result"
    }
   ],
   "source": [
    "a and b"
   ]
  },
  {
   "cell_type": "markdown",
   "metadata": {},
   "source": [
    "# Bitwise Operators\n",
    "\n",
    "Bitwise operators act on operands as if they were strings of binary digits. It operates bit by bit.\n",
    "\n",
    "&,|,~,^,>>,<< are bitwise operators"
   ]
  },
  {
   "cell_type": "code",
   "execution_count": 37,
   "metadata": {},
   "outputs": [],
   "source": [
    "a,b= 18,17"
   ]
  },
  {
   "cell_type": "code",
   "execution_count": 38,
   "metadata": {},
   "outputs": [
    {
     "name": "stdout",
     "output_type": "stream",
     "text": [
      "16\n"
     ]
    }
   ],
   "source": [
    "# AND\n",
    "print (a & b)"
   ]
  },
  {
   "cell_type": "markdown",
   "metadata": {},
   "source": [
    "![Image](data:image/png;base64,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) ![Image](https://encrypted-tbn0.gstatic.com/images?q=tbn:ANd9GcSybGls2M3xOsKPr2TA1E5M-_65vkOy25QGoO1s-tk_dIsNF8Jq)\n",
    "\n",
    "18 = 1 0 0 1 0\n",
    "\n",
    "17 = 1 0 0 0 1\n",
    "\n",
    "_____________________\n",
    "     1 0 0 0 0  = (1 * 2^4) + (0 * 2^3) + (0 * 2^2) + (0 * 2^1) + (0 * 2^0)  =  16     "
   ]
  },
  {
   "cell_type": "code",
   "execution_count": 39,
   "metadata": {},
   "outputs": [
    {
     "name": "stdout",
     "output_type": "stream",
     "text": [
      "19\n"
     ]
    }
   ],
   "source": [
    "# OR\n",
    "print(a|b)"
   ]
  },
  {
   "cell_type": "code",
   "execution_count": 40,
   "metadata": {},
   "outputs": [
    {
     "name": "stdout",
     "output_type": "stream",
     "text": [
      "-19\n"
     ]
    }
   ],
   "source": [
    "# NOT\n",
    "print(~a)"
   ]
  },
  {
   "cell_type": "code",
   "execution_count": 41,
   "metadata": {},
   "outputs": [
    {
     "name": "stdout",
     "output_type": "stream",
     "text": [
      "3\n"
     ]
    }
   ],
   "source": [
    "# XOR\n",
    "print(a^b)"
   ]
  },
  {
   "cell_type": "code",
   "execution_count": 42,
   "metadata": {},
   "outputs": [
    {
     "data": {
      "text/plain": [
       "0"
      ]
     },
     "execution_count": 42,
     "metadata": {},
     "output_type": "execute_result"
    }
   ],
   "source": [
    "# rightshift : shifts right by pushing zeroes in from left and right most bit falls off\n",
    "a>>b"
   ]
  },
  {
   "cell_type": "code",
   "execution_count": 43,
   "metadata": {},
   "outputs": [
    {
     "data": {
      "text/plain": [
       "2359296"
      ]
     },
     "execution_count": 43,
     "metadata": {},
     "output_type": "execute_result"
    }
   ],
   "source": [
    "# leftshift : shifts left by pushing zeroes in from the right and left most bit falls off\n",
    "a<<b"
   ]
  },
  {
   "cell_type": "markdown",
   "metadata": {},
   "source": [
    "to understand how \"-\" sign is is handled by binary and how left shift and right shift works watch https://www.youtube.com/watch?v=PyfKCvHALj8"
   ]
  },
  {
   "cell_type": "markdown",
   "metadata": {},
   "source": [
    "# Special Operator\n",
    "\n",
    "## Identity Operator\n",
    "\n",
    "**is** and **is not** are the identity operators\n",
    "\n",
    "They are used to check if two values ( or variables) are located on the same part of the memory."
   ]
  },
  {
   "cell_type": "code",
   "execution_count": 44,
   "metadata": {},
   "outputs": [],
   "source": [
    "a=5"
   ]
  },
  {
   "cell_type": "code",
   "execution_count": 45,
   "metadata": {},
   "outputs": [],
   "source": [
    "b=5"
   ]
  },
  {
   "cell_type": "code",
   "execution_count": 46,
   "metadata": {},
   "outputs": [
    {
     "name": "stdout",
     "output_type": "stream",
     "text": [
      "True\n"
     ]
    }
   ],
   "source": [
    "print(a is b) "
   ]
  },
  {
   "cell_type": "markdown",
   "metadata": {},
   "source": [
    "To save memory, python is designed to save variables value in the same memory location if both the variables point to the same object. This is done only in case of simple variables like int, str .etc. and not for complex numbers or for data stuctures like lists.etc. Let us verify"
   ]
  },
  {
   "cell_type": "code",
   "execution_count": 47,
   "metadata": {},
   "outputs": [
    {
     "name": "stdout",
     "output_type": "stream",
     "text": [
      "1450536128\n",
      "1450536128\n"
     ]
    }
   ],
   "source": [
    "print(id(a))\n",
    "print(id(b))"
   ]
  },
  {
   "cell_type": "code",
   "execution_count": 48,
   "metadata": {},
   "outputs": [
    {
     "name": "stdout",
     "output_type": "stream",
     "text": [
      "False\n",
      "location of l1 is  2292429325960  and location of l2 is  2292429271496\n"
     ]
    }
   ],
   "source": [
    "l1=[1,2,3]\n",
    "l2=[1,2,3]\n",
    "print(l1 is l2)\n",
    "print(\"location of l1 is \",id(l1),\" and location of l2 is \",id(l2) )"
   ]
  },
  {
   "cell_type": "code",
   "execution_count": 49,
   "metadata": {},
   "outputs": [
    {
     "name": "stdout",
     "output_type": "stream",
     "text": [
      "False\n"
     ]
    }
   ],
   "source": [
    "s1=\"AAIC\"\n",
    "s2=\"AAIC\"\n",
    "print(s1 is not s2)"
   ]
  },
  {
   "cell_type": "markdown",
   "metadata": {},
   "source": [
    "## Membership Operator"
   ]
  },
  {
   "cell_type": "markdown",
   "metadata": {},
   "source": [
    "**in** and **not in** are membership operators.\n",
    "\n",
    "They are used to test whether a value or variable is found in a sequence(string,list,tuple,set and dictionary)"
   ]
  },
  {
   "cell_type": "code",
   "execution_count": 50,
   "metadata": {},
   "outputs": [
    {
     "name": "stdout",
     "output_type": "stream",
     "text": [
      "True\n"
     ]
    }
   ],
   "source": [
    "list=[1,2,3,4]\n",
    "print(1 in list)"
   ]
  },
  {
   "cell_type": "code",
   "execution_count": 51,
   "metadata": {},
   "outputs": [
    {
     "name": "stdout",
     "output_type": "stream",
     "text": [
      "True\n"
     ]
    }
   ],
   "source": [
    "d={1:\"a\",2:\"b\"}\n",
    "print(1 in d)"
   ]
  },
  {
   "cell_type": "code",
   "execution_count": 52,
   "metadata": {},
   "outputs": [
    {
     "name": "stdout",
     "output_type": "stream",
     "text": [
      "False\n",
      "False\n"
     ]
    }
   ],
   "source": [
    "#membership operators only check on keys in dictionary\n",
    "print(\"a\" in d)\n",
    "print(a in d)"
   ]
  },
  {
   "cell_type": "code",
   "execution_count": 53,
   "metadata": {},
   "outputs": [
    {
     "name": "stdout",
     "output_type": "stream",
     "text": [
      "True\n"
     ]
    }
   ],
   "source": [
    "set=(1,2,3,4)\n",
    "print(1 in set)"
   ]
  },
  {
   "cell_type": "code",
   "execution_count": null,
   "metadata": {},
   "outputs": [],
   "source": []
  }
 ],
 "metadata": {
  "kernelspec": {
   "display_name": "Python 3",
   "language": "python",
   "name": "python3"
  },
  "language_info": {
   "codemirror_mode": {
    "name": "ipython",
    "version": 3
   },
   "file_extension": ".py",
   "mimetype": "text/x-python",
   "name": "python",
   "nbconvert_exporter": "python",
   "pygments_lexer": "ipython3",
   "version": "3.6.5"
  }
 },
 "nbformat": 4,
 "nbformat_minor": 2
}
